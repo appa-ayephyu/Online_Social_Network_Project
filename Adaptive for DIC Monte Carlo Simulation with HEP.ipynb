{
 "cells": [
  {
   "cell_type": "code",
   "execution_count": 1,
   "metadata": {},
   "outputs": [],
   "source": [
    "import random\n",
    "import numpy as np\n",
    "from tqdm import tqdm\n",
    "\n",
    "random.seed(123)\n",
    "np.random.seed(123)"
   ]
  },
  {
   "cell_type": "markdown",
   "metadata": {},
   "source": [
    "# Loading social network graph data"
   ]
  },
  {
   "cell_type": "code",
   "execution_count": 2,
   "metadata": {},
   "outputs": [],
   "source": [
    "import networkx as nx\n",
    "import ndlib.models.ModelConfig as mc\n",
    "import ndlib.models.epidemics as ids\n",
    "\n",
    "# Load social network graph\n",
    "g = nx.read_edgelist(\"data/Cit-HepPh.txt\", create_using = nx.Graph(), nodetype = int)"
   ]
  },
  {
   "cell_type": "code",
   "execution_count": 3,
   "metadata": {},
   "outputs": [
    {
     "name": "stdout",
     "output_type": "stream",
     "text": [
      "Name: \n",
      "Type: DiGraph\n",
      "Number of nodes: 34546\n",
      "Number of edges: 421578\n",
      "Average in degree:  12.2034\n",
      "Average out degree:  12.2034\n"
     ]
    }
   ],
   "source": [
    "#Quick snapshot of the Network\n",
    "print(nx.info(g))"
   ]
  },
  {
   "cell_type": "markdown",
   "metadata": {},
   "source": [
    "# Defining experiment functions"
   ]
  },
  {
   "cell_type": "code",
   "execution_count": 4,
   "metadata": {},
   "outputs": [],
   "source": [
    "# propagation probability functions\n",
    "def propagation_probability_1():\n",
    "    return 0.01\n",
    "\n",
    "def propagation_probability_2():\n",
    "    return np.random.exponential(scale=0.01)\n",
    "\n",
    "def propagation_probability_3():\n",
    "    sampled_prob = random.choice([0.1, 0.01, 0.001])\n",
    "    return sampled_prob"
   ]
  },
  {
   "cell_type": "code",
   "execution_count": 5,
   "metadata": {},
   "outputs": [],
   "source": [
    "# functions for greedy algorithm and Dynamic Independent Cascade\n",
    "\n",
    "def generate_seed_status(activation_probability=1):\n",
    "    if random.random() <= activation_probability:\n",
    "        return 1\n",
    "    else:\n",
    "        return 0\n",
    "\n",
    "def evaluated_expected_activated_nodes(model, seeds=[], iteration_num=10, simulation_num=3):\n",
    "    current_status = model.status.copy()\n",
    "    total_activated_node_count = 0\n",
    "\n",
    "    for simulation_index in range(simulation_num):\n",
    "        if simulation_index != 0:\n",
    "            model.reset()\n",
    "            model.status = current_status.copy()\n",
    "\n",
    "        # activating seeds\n",
    "        for s in seeds:\n",
    "            model.status[s] = generate_seed_status()\n",
    "\n",
    "        # starting propagation simulation\n",
    "        iterations = model.iteration_bunch(iteration_num)\n",
    "        \n",
    "        current_simulation_activated_node_count = iterations[-1]['node_count'][1] + iterations[-1]['node_count'][2]\n",
    "\n",
    "        total_activated_node_count += current_simulation_activated_node_count\n",
    "\n",
    "\n",
    "    expected_activated_nodes = total_activated_node_count / simulation_num\n",
    "\n",
    "    model.reset()\n",
    "    model.status = current_status.copy()\n",
    "\n",
    "    return expected_activated_nodes\n",
    "\n",
    "\n",
    "def select_seed_node_with_a_greedy_algorithm(model, node_sample_proportion=1.0, iteration_num=10, simulation_num=3):\n",
    "    current_status = model.status.copy()\n",
    "    candidate_nodes = []\n",
    "    # node_score = {}\n",
    "    max_expected_activated_nodes = 0\n",
    "    node_top_choice = None\n",
    "    for node_id, node_status in model.status.items():\n",
    "        if node_status == 0:\n",
    "            candidate_nodes.append(node_id)\n",
    "\n",
    "    if node_sample_proportion != 1.0:            \n",
    "        random.shuffle(candidate_nodes)\n",
    "        sample_count = int(len(candidate_nodes) * node_sample_proportion)\n",
    "        candidate_nodes = candidate_nodes[:sample_count]\n",
    "\n",
    "    for node_id in tqdm(candidate_nodes):\n",
    "        expected_activated_nodes = evaluated_expected_activated_nodes(model, seeds=[node_id], iteration_num=iteration_num, simulation_num=simulation_num)\n",
    "        # node_score[node_id] = expected_activated_nodes\n",
    "        if max_expected_activated_nodes < expected_activated_nodes:\n",
    "            max_expected_activated_nodes = expected_activated_nodes\n",
    "            node_top_choice = node_id\n",
    "\n",
    "    model.reset()\n",
    "    model.status = current_status.copy()\n",
    "\n",
    "    return node_top_choice\n",
    "\n",
    "\n",
    "\n",
    "\n",
    "def evaluated_expected_activated_nodes_for_first_seed(graph, config, seeds=[], iteration_num=10, simulation_num=3):\n",
    "    # current_status = model.status.copy()\n",
    "    total_activated_node_count = 0\n",
    "\n",
    "    for simulation_index in range(simulation_num):\n",
    "\n",
    "        # Propagation Model selection\n",
    "        simulated_model = ids.IndependentCascadesModel(graph)\n",
    "        # # Model Configuration\n",
    "        # config = mc.Configuration()\n",
    "        # Set all nodes to inactive at the beginning\n",
    "        config.add_model_parameter('percentage_infected', 0.0)\n",
    "        # Set first seed(s) to initialize the model\n",
    "        activated_seeds = []\n",
    "        for s in seeds:\n",
    "            activated_seeds.append(s)\n",
    "        config.add_model_initial_configuration('Infected', activated_seeds)\n",
    "        # config.add_model_initial_configuration('Infected', [1,2,3,4])\n",
    "\n",
    "        simulated_model.set_initial_status(config)\n",
    "\n",
    "        iterations = simulated_model.iteration_bunch(iteration_num)\n",
    "        \n",
    "        current_simulation_activated_node_count = iterations[-1]['node_count'][1] + iterations[-1]['node_count'][2]\n",
    "\n",
    "        total_activated_node_count += current_simulation_activated_node_count\n",
    "\n",
    "\n",
    "    expected_activated_nodes = total_activated_node_count / simulation_num\n",
    "\n",
    "    # simulated_model.reset()\n",
    "\n",
    "    return expected_activated_nodes\n",
    "\n",
    "\n",
    "\n",
    "def select_first_seed_node_with_a_greedy_algorithm(model, config, node_sample_proportion=1.0, iteration_num=10, simulation_num=3):\n",
    "    candidate_nodes = list(model.graph.nodes())\n",
    "    # node_score = {}\n",
    "    max_expected_activated_nodes = 0\n",
    "    node_top_choice = None\n",
    "\n",
    "    if node_sample_proportion != 1.0:            \n",
    "        random.shuffle(candidate_nodes)\n",
    "        sample_count = int(len(candidate_nodes) * node_sample_proportion)\n",
    "        candidate_nodes = candidate_nodes[:sample_count]\n",
    "\n",
    "    for node_id in tqdm(candidate_nodes):\n",
    "        expected_activated_nodes = evaluated_expected_activated_nodes_for_first_seed(model.graph.graph, config, seeds=[node_id], iteration_num=iteration_num, simulation_num=simulation_num)\n",
    "        # node_score[node_id] = expected_activated_nodes\n",
    "        if max_expected_activated_nodes < expected_activated_nodes:\n",
    "            max_expected_activated_nodes = expected_activated_nodes\n",
    "            node_top_choice = node_id\n",
    "\n",
    "    return node_top_choice\n"
   ]
  },
  {
   "cell_type": "code",
   "execution_count": 6,
   "metadata": {},
   "outputs": [],
   "source": [
    "# function to execute one run of experiment\n",
    "def run_experiment(model, budget=10, decision_interval_period=5, propagation_probability_function=1, max_propagation_after_last_seed=1000, node_sample_proportion=1.0, iteration_num=10, simulation_num=3):\n",
    "\n",
    "    # Set propagation_probability_function\n",
    "    if propagation_probability_function == 1:\n",
    "        propagation_probability = propagation_probability_1\n",
    "    elif propagation_probability_function == 2:\n",
    "        propagation_probability = propagation_probability_2\n",
    "    elif propagation_probability_function == 3:\n",
    "        propagation_probability = propagation_probability_3\n",
    "\n",
    "    # Model Configuration\n",
    "    config = mc.Configuration()\n",
    "\n",
    "    # Setting the edge parameters\n",
    "    for index, e in enumerate(g.edges()):\n",
    "        threshold = propagation_probability()\n",
    "        config.add_edge_configuration(\"threshold\", e, threshold)\n",
    "\n",
    "    \n",
    "    print(\"decision # \", 1)\n",
    "    first_seed = select_first_seed_node_with_a_greedy_algorithm(model, config, node_sample_proportion=node_sample_proportion, iteration_num=iteration_num, simulation_num=simulation_num)\n",
    "    print(\"selected node: \", first_seed)\n",
    "    \n",
    "    # Set all nodes to inactive at the beginning\n",
    "    config.add_model_parameter('percentage_infected', 0.0)\n",
    "    # Set first seed(s) to initialize the model\n",
    "    config.add_model_initial_configuration('Infected', [first_seed])\n",
    "    # config.add_model_initial_configuration('Infected', [1,2,3,4])\n",
    "    model.set_initial_status(config)\n",
    "\n",
    "    # Run propagation steps after seeding the first node\n",
    "    iterations = model.iteration_bunch(decision_interval_period + 1) # +1 as the first iteration only initializes the model, with no propagation\n",
    "\n",
    "    # Propagation steps for subsequent seed nodes\n",
    "    for decision_index in range(budget):\n",
    "        if decision_index != 0:\n",
    "            print(\"decision # \", decision_index + 1)\n",
    "            # propagation for non-first seed\n",
    "            selected_seed_node_id = select_seed_node_with_a_greedy_algorithm(model, node_sample_proportion=node_sample_proportion, iteration_num=iteration_num, simulation_num=simulation_num)\n",
    "            print(\"selected node: \", selected_seed_node_id)\n",
    "            # activate selected node\n",
    "            model.status[selected_seed_node_id] = generate_seed_status()\n",
    "            current_iterations = model.iteration_bunch(decision_interval_period)\n",
    "\n",
    "            iterations += current_iterations\n",
    "\n",
    "    propagation_iterations = model.iteration_bunch(max_propagation_after_last_seed-decision_interval_period)\n",
    "\n",
    "    iterations += propagation_iterations\n",
    "\n",
    "    total_activated_node_count = iterations[-1]['node_count'][1] + iterations[-1]['node_count'][2]\n",
    "\n",
    "    return total_activated_node_count, iterations\n"
   ]
  },
  {
   "cell_type": "code",
   "execution_count": 7,
   "metadata": {},
   "outputs": [],
   "source": [
    "# Propagation Model selection\n",
    "model = ids.IndependentCascadesModel(g)"
   ]
  },
  {
   "cell_type": "code",
   "execution_count": 8,
   "metadata": {},
   "outputs": [],
   "source": [
    "# code in run_experiment function\n",
    "if False:\n",
    "    # Model Configuration\n",
    "    config = mc.Configuration()\n",
    "    # Set all nodes to inactive at the beginning\n",
    "    config.add_model_parameter('percentage_infected', 0.0)\n",
    "    # Set first seed(s) to initialize the model\n",
    "    config.add_model_initial_configuration('Infected', [1])\n",
    "    # config.add_model_initial_configuration('Infected', [1,2,3,4])\n",
    "\n",
    "    # Setting the edge parameters\n",
    "    for index, e in enumerate(g.edges()):\n",
    "        threshold = propagation_probability_1()\n",
    "    #     threshold = propagation_probability_2()\n",
    "    #     threshold = propagation_probability_3()\n",
    "        config.add_edge_configuration(\"threshold\", e, threshold)"
   ]
  },
  {
   "cell_type": "code",
   "execution_count": 9,
   "metadata": {},
   "outputs": [],
   "source": [
    "BUDGET = 10 # how many seeds are allowed to be activated\n",
    "DECISION_INTERVAL_PERIOD = 10 # how many propagation steps before the next decision to pick a seed node\n",
    "PROPAGATION_FUNCTION = 1 # F1, F2 or F3 to model the node propagation\n",
    "PROP_AFTER_LAST_SEED = 200 # propagation steps to simulate after the budget is used up\n",
    "NODE_SAMPLE_RATE = 0.01 # proportion of available nodes to run Monte Carlo simulations while deciding which node to select\n",
    "# NODE_SAMPLE_RATE = 1.0 # proportion of available nodes to run Monte Carlo simulations while deciding which node to select\n",
    "ITER_NUM = 50 # propagation steps to simulate while evaluating the reward of seeding a node\n",
    "SIM_NUM = 3 # number of Monte Carlo simluations per node"
   ]
  },
  {
   "cell_type": "code",
   "execution_count": 10,
   "metadata": {},
   "outputs": [],
   "source": [
    "NUM_EXPERIMENTS_TO_RUN = 1"
   ]
  },
  {
   "cell_type": "code",
   "execution_count": 11,
   "metadata": {},
   "outputs": [
    {
     "name": "stdout",
     "output_type": "stream",
     "text": [
      "Running experiment #  1\n",
      "decision #  1\n"
     ]
    },
    {
     "name": "stderr",
     "output_type": "stream",
     "text": [
      " 12%|██████████                                                                       | 43/345 [02:45<19:20,  3.84s/it]"
     ]
    },
    {
     "ename": "KeyboardInterrupt",
     "evalue": "",
     "output_type": "error",
     "traceback": [
      "\u001b[1;31m---------------------------------------------------------------------------\u001b[0m",
      "\u001b[1;31mKeyboardInterrupt\u001b[0m                         Traceback (most recent call last)",
      "\u001b[1;32m<ipython-input-11-47f8cc02ac94>\u001b[0m in \u001b[0;36m<module>\u001b[1;34m\u001b[0m\n\u001b[0;32m     11\u001b[0m                                                     \u001b[0mnode_sample_proportion\u001b[0m\u001b[1;33m=\u001b[0m\u001b[0mNODE_SAMPLE_RATE\u001b[0m\u001b[1;33m,\u001b[0m\u001b[1;33m\u001b[0m\u001b[1;33m\u001b[0m\u001b[0m\n\u001b[0;32m     12\u001b[0m                                                     \u001b[0miteration_num\u001b[0m\u001b[1;33m=\u001b[0m\u001b[0mITER_NUM\u001b[0m\u001b[1;33m,\u001b[0m\u001b[1;33m\u001b[0m\u001b[1;33m\u001b[0m\u001b[0m\n\u001b[1;32m---> 13\u001b[1;33m                                                     \u001b[0msimulation_num\u001b[0m\u001b[1;33m=\u001b[0m\u001b[0mSIM_NUM\u001b[0m\u001b[1;33m\u001b[0m\u001b[1;33m\u001b[0m\u001b[0m\n\u001b[0m\u001b[0;32m     14\u001b[0m                                                 )\n\u001b[0;32m     15\u001b[0m     \u001b[0mtotal_activated_node_count_list\u001b[0m\u001b[1;33m.\u001b[0m\u001b[0mappend\u001b[0m\u001b[1;33m(\u001b[0m\u001b[0mtotal_activated_node_count\u001b[0m\u001b[1;33m)\u001b[0m\u001b[1;33m\u001b[0m\u001b[1;33m\u001b[0m\u001b[0m\n",
      "\u001b[1;32m<ipython-input-6-d0d306141e9c>\u001b[0m in \u001b[0;36mrun_experiment\u001b[1;34m(model, budget, decision_interval_period, propagation_probability_function, max_propagation_after_last_seed, node_sample_proportion, iteration_num, simulation_num)\u001b[0m\n\u001b[0;32m     20\u001b[0m \u001b[1;33m\u001b[0m\u001b[0m\n\u001b[0;32m     21\u001b[0m     \u001b[0mprint\u001b[0m\u001b[1;33m(\u001b[0m\u001b[1;34m\"decision # \"\u001b[0m\u001b[1;33m,\u001b[0m \u001b[1;36m1\u001b[0m\u001b[1;33m)\u001b[0m\u001b[1;33m\u001b[0m\u001b[1;33m\u001b[0m\u001b[0m\n\u001b[1;32m---> 22\u001b[1;33m     \u001b[0mfirst_seed\u001b[0m \u001b[1;33m=\u001b[0m \u001b[0mselect_first_seed_node_with_a_greedy_algorithm\u001b[0m\u001b[1;33m(\u001b[0m\u001b[0mmodel\u001b[0m\u001b[1;33m,\u001b[0m \u001b[0mconfig\u001b[0m\u001b[1;33m,\u001b[0m \u001b[0mnode_sample_proportion\u001b[0m\u001b[1;33m=\u001b[0m\u001b[0mnode_sample_proportion\u001b[0m\u001b[1;33m,\u001b[0m \u001b[0miteration_num\u001b[0m\u001b[1;33m=\u001b[0m\u001b[0miteration_num\u001b[0m\u001b[1;33m,\u001b[0m \u001b[0msimulation_num\u001b[0m\u001b[1;33m=\u001b[0m\u001b[0msimulation_num\u001b[0m\u001b[1;33m)\u001b[0m\u001b[1;33m\u001b[0m\u001b[1;33m\u001b[0m\u001b[0m\n\u001b[0m\u001b[0;32m     23\u001b[0m     \u001b[0mprint\u001b[0m\u001b[1;33m(\u001b[0m\u001b[1;34m\"selected node: \"\u001b[0m\u001b[1;33m,\u001b[0m \u001b[0mfirst_seed\u001b[0m\u001b[1;33m)\u001b[0m\u001b[1;33m\u001b[0m\u001b[1;33m\u001b[0m\u001b[0m\n\u001b[0;32m     24\u001b[0m \u001b[1;33m\u001b[0m\u001b[0m\n",
      "\u001b[1;32m<ipython-input-5-9c78fd197753>\u001b[0m in \u001b[0;36mselect_first_seed_node_with_a_greedy_algorithm\u001b[1;34m(model, config, node_sample_proportion, iteration_num, simulation_num)\u001b[0m\n\u001b[0;32m    114\u001b[0m \u001b[1;33m\u001b[0m\u001b[0m\n\u001b[0;32m    115\u001b[0m     \u001b[1;32mfor\u001b[0m \u001b[0mnode_id\u001b[0m \u001b[1;32min\u001b[0m \u001b[0mtqdm\u001b[0m\u001b[1;33m(\u001b[0m\u001b[0mcandidate_nodes\u001b[0m\u001b[1;33m)\u001b[0m\u001b[1;33m:\u001b[0m\u001b[1;33m\u001b[0m\u001b[1;33m\u001b[0m\u001b[0m\n\u001b[1;32m--> 116\u001b[1;33m         \u001b[0mexpected_activated_nodes\u001b[0m \u001b[1;33m=\u001b[0m \u001b[0mevaluated_expected_activated_nodes_for_first_seed\u001b[0m\u001b[1;33m(\u001b[0m\u001b[0mmodel\u001b[0m\u001b[1;33m.\u001b[0m\u001b[0mgraph\u001b[0m\u001b[1;33m.\u001b[0m\u001b[0mgraph\u001b[0m\u001b[1;33m,\u001b[0m \u001b[0mconfig\u001b[0m\u001b[1;33m,\u001b[0m \u001b[0mseeds\u001b[0m\u001b[1;33m=\u001b[0m\u001b[1;33m[\u001b[0m\u001b[0mnode_id\u001b[0m\u001b[1;33m]\u001b[0m\u001b[1;33m,\u001b[0m \u001b[0miteration_num\u001b[0m\u001b[1;33m=\u001b[0m\u001b[0miteration_num\u001b[0m\u001b[1;33m,\u001b[0m \u001b[0msimulation_num\u001b[0m\u001b[1;33m=\u001b[0m\u001b[0msimulation_num\u001b[0m\u001b[1;33m)\u001b[0m\u001b[1;33m\u001b[0m\u001b[1;33m\u001b[0m\u001b[0m\n\u001b[0m\u001b[0;32m    117\u001b[0m         \u001b[1;31m# node_score[node_id] = expected_activated_nodes\u001b[0m\u001b[1;33m\u001b[0m\u001b[1;33m\u001b[0m\u001b[1;33m\u001b[0m\u001b[0m\n\u001b[0;32m    118\u001b[0m         \u001b[1;32mif\u001b[0m \u001b[0mmax_expected_activated_nodes\u001b[0m \u001b[1;33m<\u001b[0m \u001b[0mexpected_activated_nodes\u001b[0m\u001b[1;33m:\u001b[0m\u001b[1;33m\u001b[0m\u001b[1;33m\u001b[0m\u001b[0m\n",
      "\u001b[1;32m<ipython-input-5-9c78fd197753>\u001b[0m in \u001b[0;36mevaluated_expected_activated_nodes_for_first_seed\u001b[1;34m(graph, config, seeds, iteration_num, simulation_num)\u001b[0m\n\u001b[0;32m     87\u001b[0m         \u001b[0msimulated_model\u001b[0m\u001b[1;33m.\u001b[0m\u001b[0mset_initial_status\u001b[0m\u001b[1;33m(\u001b[0m\u001b[0mconfig\u001b[0m\u001b[1;33m)\u001b[0m\u001b[1;33m\u001b[0m\u001b[1;33m\u001b[0m\u001b[0m\n\u001b[0;32m     88\u001b[0m \u001b[1;33m\u001b[0m\u001b[0m\n\u001b[1;32m---> 89\u001b[1;33m         \u001b[0miterations\u001b[0m \u001b[1;33m=\u001b[0m \u001b[0msimulated_model\u001b[0m\u001b[1;33m.\u001b[0m\u001b[0miteration_bunch\u001b[0m\u001b[1;33m(\u001b[0m\u001b[0miteration_num\u001b[0m\u001b[1;33m)\u001b[0m\u001b[1;33m\u001b[0m\u001b[1;33m\u001b[0m\u001b[0m\n\u001b[0m\u001b[0;32m     90\u001b[0m \u001b[1;33m\u001b[0m\u001b[0m\n\u001b[0;32m     91\u001b[0m         \u001b[0mcurrent_simulation_activated_node_count\u001b[0m \u001b[1;33m=\u001b[0m \u001b[0miterations\u001b[0m\u001b[1;33m[\u001b[0m\u001b[1;33m-\u001b[0m\u001b[1;36m1\u001b[0m\u001b[1;33m]\u001b[0m\u001b[1;33m[\u001b[0m\u001b[1;34m'node_count'\u001b[0m\u001b[1;33m]\u001b[0m\u001b[1;33m[\u001b[0m\u001b[1;36m1\u001b[0m\u001b[1;33m]\u001b[0m \u001b[1;33m+\u001b[0m \u001b[0miterations\u001b[0m\u001b[1;33m[\u001b[0m\u001b[1;33m-\u001b[0m\u001b[1;36m1\u001b[0m\u001b[1;33m]\u001b[0m\u001b[1;33m[\u001b[0m\u001b[1;34m'node_count'\u001b[0m\u001b[1;33m]\u001b[0m\u001b[1;33m[\u001b[0m\u001b[1;36m2\u001b[0m\u001b[1;33m]\u001b[0m\u001b[1;33m\u001b[0m\u001b[1;33m\u001b[0m\u001b[0m\n",
      "\u001b[1;32m~\\Anaconda3\\lib\\site-packages\\ndlib-5.0.1-py3.7.egg\\ndlib\\models\\DiffusionModel.py\u001b[0m in \u001b[0;36miteration_bunch\u001b[1;34m(self, bunch_size, node_status)\u001b[0m\n\u001b[0;32m    195\u001b[0m         \u001b[0msystem_status\u001b[0m \u001b[1;33m=\u001b[0m \u001b[1;33m[\u001b[0m\u001b[1;33m]\u001b[0m\u001b[1;33m\u001b[0m\u001b[1;33m\u001b[0m\u001b[0m\n\u001b[0;32m    196\u001b[0m         \u001b[1;32mfor\u001b[0m \u001b[0mit\u001b[0m \u001b[1;32min\u001b[0m \u001b[0mpast\u001b[0m\u001b[1;33m.\u001b[0m\u001b[0mbuiltins\u001b[0m\u001b[1;33m.\u001b[0m\u001b[0mxrange\u001b[0m\u001b[1;33m(\u001b[0m\u001b[1;36m0\u001b[0m\u001b[1;33m,\u001b[0m \u001b[0mbunch_size\u001b[0m\u001b[1;33m)\u001b[0m\u001b[1;33m:\u001b[0m\u001b[1;33m\u001b[0m\u001b[1;33m\u001b[0m\u001b[0m\n\u001b[1;32m--> 197\u001b[1;33m             \u001b[0mits\u001b[0m \u001b[1;33m=\u001b[0m \u001b[0mself\u001b[0m\u001b[1;33m.\u001b[0m\u001b[0miteration\u001b[0m\u001b[1;33m(\u001b[0m\u001b[0mnode_status\u001b[0m\u001b[1;33m)\u001b[0m\u001b[1;33m\u001b[0m\u001b[1;33m\u001b[0m\u001b[0m\n\u001b[0m\u001b[0;32m    198\u001b[0m             \u001b[0msystem_status\u001b[0m\u001b[1;33m.\u001b[0m\u001b[0mappend\u001b[0m\u001b[1;33m(\u001b[0m\u001b[0mits\u001b[0m\u001b[1;33m)\u001b[0m\u001b[1;33m\u001b[0m\u001b[1;33m\u001b[0m\u001b[0m\n\u001b[0;32m    199\u001b[0m         \u001b[1;32mreturn\u001b[0m \u001b[0msystem_status\u001b[0m\u001b[1;33m\u001b[0m\u001b[1;33m\u001b[0m\u001b[0m\n",
      "\u001b[1;32m~\\Anaconda3\\lib\\site-packages\\ndlib-5.0.1-py3.7.egg\\ndlib\\models\\epidemics\\IndependentCascadesModel.py\u001b[0m in \u001b[0;36miteration\u001b[1;34m(self, node_status)\u001b[0m\n\u001b[0;32m     49\u001b[0m         \u001b[1;33m:\u001b[0m\u001b[1;32mreturn\u001b[0m\u001b[1;33m:\u001b[0m \u001b[0mIteration_id\u001b[0m\u001b[1;33m,\u001b[0m \u001b[0mIncremental\u001b[0m \u001b[0mnode\u001b[0m \u001b[0mstatus\u001b[0m \u001b[1;33m(\u001b[0m\u001b[0mdictionary\u001b[0m \u001b[0mnode\u001b[0m\u001b[1;33m->\u001b[0m\u001b[0mstatus\u001b[0m\u001b[1;33m)\u001b[0m\u001b[1;33m\u001b[0m\u001b[1;33m\u001b[0m\u001b[0m\n\u001b[0;32m     50\u001b[0m         \"\"\"\n\u001b[1;32m---> 51\u001b[1;33m         \u001b[0mself\u001b[0m\u001b[1;33m.\u001b[0m\u001b[0mclean_initial_status\u001b[0m\u001b[1;33m(\u001b[0m\u001b[0mlist\u001b[0m\u001b[1;33m(\u001b[0m\u001b[0mself\u001b[0m\u001b[1;33m.\u001b[0m\u001b[0mavailable_statuses\u001b[0m\u001b[1;33m.\u001b[0m\u001b[0mvalues\u001b[0m\u001b[1;33m(\u001b[0m\u001b[1;33m)\u001b[0m\u001b[1;33m)\u001b[0m\u001b[1;33m)\u001b[0m\u001b[1;33m\u001b[0m\u001b[1;33m\u001b[0m\u001b[0m\n\u001b[0m\u001b[0;32m     52\u001b[0m         \u001b[0mactual_status\u001b[0m \u001b[1;33m=\u001b[0m \u001b[1;33m{\u001b[0m\u001b[0mnode\u001b[0m\u001b[1;33m:\u001b[0m \u001b[0mnstatus\u001b[0m \u001b[1;32mfor\u001b[0m \u001b[0mnode\u001b[0m\u001b[1;33m,\u001b[0m \u001b[0mnstatus\u001b[0m \u001b[1;32min\u001b[0m \u001b[0mfuture\u001b[0m\u001b[1;33m.\u001b[0m\u001b[0mutils\u001b[0m\u001b[1;33m.\u001b[0m\u001b[0miteritems\u001b[0m\u001b[1;33m(\u001b[0m\u001b[0mself\u001b[0m\u001b[1;33m.\u001b[0m\u001b[0mstatus\u001b[0m\u001b[1;33m)\u001b[0m\u001b[1;33m}\u001b[0m\u001b[1;33m\u001b[0m\u001b[1;33m\u001b[0m\u001b[0m\n\u001b[0;32m     53\u001b[0m \u001b[1;33m\u001b[0m\u001b[0m\n",
      "\u001b[1;32m~\\Anaconda3\\lib\\site-packages\\ndlib-5.0.1-py3.7.egg\\ndlib\\models\\DiffusionModel.py\u001b[0m in \u001b[0;36mclean_initial_status\u001b[1;34m(self, valid_status)\u001b[0m\n\u001b[0;32m    180\u001b[0m         \u001b[1;33m:\u001b[0m\u001b[0mparam\u001b[0m \u001b[0mvalid_status\u001b[0m\u001b[1;33m:\u001b[0m \u001b[0mvalid\u001b[0m \u001b[0mnode\u001b[0m \u001b[0mconfigurations\u001b[0m\u001b[1;33m\u001b[0m\u001b[1;33m\u001b[0m\u001b[0m\n\u001b[0;32m    181\u001b[0m         \"\"\"\n\u001b[1;32m--> 182\u001b[1;33m         \u001b[1;32mfor\u001b[0m \u001b[0mn\u001b[0m\u001b[1;33m,\u001b[0m \u001b[0ms\u001b[0m \u001b[1;32min\u001b[0m \u001b[0mfuture\u001b[0m\u001b[1;33m.\u001b[0m\u001b[0mutils\u001b[0m\u001b[1;33m.\u001b[0m\u001b[0miteritems\u001b[0m\u001b[1;33m(\u001b[0m\u001b[0mself\u001b[0m\u001b[1;33m.\u001b[0m\u001b[0mstatus\u001b[0m\u001b[1;33m)\u001b[0m\u001b[1;33m:\u001b[0m\u001b[1;33m\u001b[0m\u001b[1;33m\u001b[0m\u001b[0m\n\u001b[0m\u001b[0;32m    183\u001b[0m             \u001b[1;32mif\u001b[0m \u001b[0ms\u001b[0m \u001b[1;32mnot\u001b[0m \u001b[1;32min\u001b[0m \u001b[0mvalid_status\u001b[0m\u001b[1;33m:\u001b[0m\u001b[1;33m\u001b[0m\u001b[1;33m\u001b[0m\u001b[0m\n\u001b[0;32m    184\u001b[0m                 \u001b[0mself\u001b[0m\u001b[1;33m.\u001b[0m\u001b[0mstatus\u001b[0m\u001b[1;33m[\u001b[0m\u001b[0mn\u001b[0m\u001b[1;33m]\u001b[0m \u001b[1;33m=\u001b[0m \u001b[1;36m0\u001b[0m\u001b[1;33m\u001b[0m\u001b[1;33m\u001b[0m\u001b[0m\n",
      "\u001b[1;31mKeyboardInterrupt\u001b[0m: "
     ]
    }
   ],
   "source": [
    "total_activated_node_count_list = []\n",
    "\n",
    "for exp_index in range(NUM_EXPERIMENTS_TO_RUN):\n",
    "    print(\"Running experiment # \", exp_index+1)\n",
    "    total_activated_node_count, iterations = run_experiment(\n",
    "                                                    model, \n",
    "                                                    budget=BUDGET, \n",
    "                                                    decision_interval_period=DECISION_INTERVAL_PERIOD, \n",
    "                                                    propagation_probability_function=PROPAGATION_FUNCTION, \n",
    "                                                    max_propagation_after_last_seed=PROP_AFTER_LAST_SEED, \n",
    "                                                    node_sample_proportion=NODE_SAMPLE_RATE, \n",
    "                                                    iteration_num=ITER_NUM, \n",
    "                                                    simulation_num=SIM_NUM\n",
    "                                                )\n",
    "    total_activated_node_count_list.append(total_activated_node_count)\n",
    "\n",
    "mean_activated_node_count = np.mean(total_activated_node_count_list)"
   ]
  },
  {
   "cell_type": "code",
   "execution_count": null,
   "metadata": {},
   "outputs": [],
   "source": [
    "print(\"mean_activated_node_count: \", mean_activated_node_count)"
   ]
  },
  {
   "cell_type": "code",
   "execution_count": null,
   "metadata": {},
   "outputs": [],
   "source": [
    "total_activated_node_count_list"
   ]
  },
  {
   "cell_type": "code",
   "execution_count": null,
   "metadata": {},
   "outputs": [],
   "source": [
    "# model.status"
   ]
  },
  {
   "cell_type": "code",
   "execution_count": null,
   "metadata": {},
   "outputs": [],
   "source": [
    "delta, node_count, status_delta = model.status_delta(model.status)\n",
    "print('delta: ', delta)\n",
    "print('node_count: ', node_count)\n",
    "print('status_delta: ', status_delta)"
   ]
  },
  {
   "cell_type": "code",
   "execution_count": null,
   "metadata": {},
   "outputs": [],
   "source": [
    "# iterations"
   ]
  },
  {
   "cell_type": "code",
   "execution_count": null,
   "metadata": {},
   "outputs": [],
   "source": [
    "# trends = model.build_trends(iterations)"
   ]
  },
  {
   "cell_type": "markdown",
   "metadata": {},
   "source": [
    "# Visualization"
   ]
  },
  {
   "cell_type": "code",
   "execution_count": null,
   "metadata": {},
   "outputs": [],
   "source": [
    "# from bokeh.io import output_notebook, show\n",
    "# from ndlib.viz.bokeh.DiffusionTrend import DiffusionTrend\n",
    "\n",
    "# viz = DiffusionTrend(model, trends)\n",
    "# p = viz.plot(width=400, height=400)\n",
    "# #show(p)"
   ]
  },
  {
   "cell_type": "code",
   "execution_count": null,
   "metadata": {},
   "outputs": [],
   "source": [
    "# from ndlib.viz.bokeh.DiffusionPrevalence import DiffusionPrevalence\n",
    "\n",
    "# viz2 = DiffusionPrevalence(model, trends)\n",
    "# p2 = viz2.plot(width=400, height=400)\n",
    "# show(p2)"
   ]
  },
  {
   "cell_type": "code",
   "execution_count": null,
   "metadata": {},
   "outputs": [],
   "source": [
    "# from ndlib.viz.bokeh.MultiPlot import MultiPlot\n",
    "# vm = MultiPlot()\n",
    "# vm.add_plot(p)\n",
    "# vm.add_plot(p2)\n",
    "# m = vm.plot()\n",
    "# show(m)"
   ]
  },
  {
   "cell_type": "code",
   "execution_count": null,
   "metadata": {},
   "outputs": [],
   "source": [
    "# model.status"
   ]
  },
  {
   "cell_type": "code",
   "execution_count": null,
   "metadata": {},
   "outputs": [],
   "source": []
  }
 ],
 "metadata": {
  "kernelspec": {
   "display_name": "Python 3",
   "language": "python",
   "name": "python3"
  },
  "language_info": {
   "codemirror_mode": {
    "name": "ipython",
    "version": 3
   },
   "file_extension": ".py",
   "mimetype": "text/x-python",
   "name": "python",
   "nbconvert_exporter": "python",
   "pygments_lexer": "ipython3",
   "version": "3.7.1"
  }
 },
 "nbformat": 4,
 "nbformat_minor": 2
}
