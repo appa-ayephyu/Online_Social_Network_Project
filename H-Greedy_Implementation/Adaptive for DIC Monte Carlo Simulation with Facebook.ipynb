{
 "cells": [
  {
   "cell_type": "code",
   "execution_count": 1,
   "metadata": {},
   "outputs": [],
   "source": [
    "import random\n",
    "import numpy as np\n",
    "from tqdm import tqdm\n",
    "\n",
    "random.seed(123)\n",
    "np.random.seed(123)"
   ]
  },
  {
   "cell_type": "markdown",
   "metadata": {},
   "source": [
    "# Loading social network graph data"
   ]
  },
  {
   "cell_type": "code",
   "execution_count": 2,
   "metadata": {},
   "outputs": [],
   "source": [
    "import networkx as nx\n",
    "import ndlib.models.ModelConfig as mc\n",
    "import ndlib.models.epidemics as ids\n",
    "\n",
    "# Load social network graph\n",
    "g = nx.read_edgelist(\"data/facebook_combined.txt\", create_using = nx.Graph(), nodetype = int)"
   ]
  },
  {
   "cell_type": "code",
   "execution_count": 3,
   "metadata": {},
   "outputs": [
    {
     "name": "stdout",
     "output_type": "stream",
     "text": [
      "Name: \n",
      "Type: Graph\n",
      "Number of nodes: 4039\n",
      "Number of edges: 88234\n",
      "Average degree:  43.6910\n"
     ]
    }
   ],
   "source": [
    "#Quick snapshot of the Network\n",
    "print(nx.info(g))"
   ]
  },
  {
   "cell_type": "markdown",
   "metadata": {},
   "source": [
    "# Defining experiment functions"
   ]
  },
  {
   "cell_type": "code",
   "execution_count": 4,
   "metadata": {},
   "outputs": [],
   "source": [
    "# propagation probability functions\n",
    "def propagation_probability_1():\n",
    "    return 0.01\n",
    "\n",
    "def propagation_probability_2():\n",
    "    return np.random.exponential(scale=0.01)\n",
    "\n",
    "def propagation_probability_3():\n",
    "    sampled_prob = random.choice([0.1, 0.01, 0.001])\n",
    "    return sampled_prob"
   ]
  },
  {
   "cell_type": "code",
   "execution_count": 5,
   "metadata": {},
   "outputs": [],
   "source": [
    "# functions for greedy algorithm and Dynamic Independent Cascade\n",
    "\n",
    "def generate_seed_status(activation_probability=1):\n",
    "    if random.random() <= activation_probability:\n",
    "        return 1\n",
    "    else:\n",
    "        return 0\n",
    "\n",
    "def evaluated_expected_activated_nodes(model, seeds=[], iteration_num=10, simulation_num=3):\n",
    "    current_status = model.status.copy()\n",
    "    total_activated_node_count = 0\n",
    "\n",
    "    for simulation_index in range(simulation_num):\n",
    "        if simulation_index != 0:\n",
    "            model.reset()\n",
    "            model.status = current_status.copy()\n",
    "\n",
    "        # activating seeds\n",
    "        for s in seeds:\n",
    "            model.status[s] = generate_seed_status()\n",
    "\n",
    "        # starting propagation simulation\n",
    "        iterations = model.iteration_bunch(iteration_num)\n",
    "        \n",
    "        current_simulation_activated_node_count = iterations[-1]['node_count'][1] + iterations[-1]['node_count'][2]\n",
    "\n",
    "        total_activated_node_count += current_simulation_activated_node_count\n",
    "\n",
    "\n",
    "    expected_activated_nodes = total_activated_node_count / simulation_num\n",
    "\n",
    "    model.reset()\n",
    "    model.status = current_status.copy()\n",
    "\n",
    "    return expected_activated_nodes\n",
    "\n",
    "\n",
    "def select_seed_node_with_a_greedy_algorithm(model, node_sample_proportion=1.0, iteration_num=10, simulation_num=3):\n",
    "    current_status = model.status.copy()\n",
    "    candidate_nodes = []\n",
    "    # node_score = {}\n",
    "    max_expected_activated_nodes = 0\n",
    "    node_top_choice = None\n",
    "    for node_id, node_status in model.status.items():\n",
    "        if node_status == 0:\n",
    "            candidate_nodes.append(node_id)\n",
    "\n",
    "    if node_sample_proportion != 1.0:            \n",
    "        random.shuffle(candidate_nodes)\n",
    "        sample_count = int(len(candidate_nodes) * node_sample_proportion)\n",
    "        candidate_nodes = candidate_nodes[:sample_count]\n",
    "\n",
    "    for node_id in tqdm(candidate_nodes):\n",
    "        expected_activated_nodes = evaluated_expected_activated_nodes(model, seeds=[node_id], iteration_num=iteration_num, simulation_num=simulation_num)\n",
    "        # node_score[node_id] = expected_activated_nodes\n",
    "        if max_expected_activated_nodes < expected_activated_nodes:\n",
    "            max_expected_activated_nodes = expected_activated_nodes\n",
    "            node_top_choice = node_id\n",
    "\n",
    "    model.reset()\n",
    "    model.status = current_status.copy()\n",
    "\n",
    "    return node_top_choice\n",
    "\n",
    "\n",
    "\n",
    "\n",
    "def evaluated_expected_activated_nodes_for_first_seed(graph, config, seeds=[], iteration_num=10, simulation_num=3):\n",
    "    # current_status = model.status.copy()\n",
    "    total_activated_node_count = 0\n",
    "\n",
    "    for simulation_index in range(simulation_num):\n",
    "\n",
    "        # Propagation Model selection\n",
    "        simulated_model = ids.IndependentCascadesModel(graph)\n",
    "        # # Model Configuration\n",
    "        # config = mc.Configuration()\n",
    "        # Set all nodes to inactive at the beginning\n",
    "        config.add_model_parameter('percentage_infected', 0.0)\n",
    "        # Set first seed(s) to initialize the model\n",
    "        activated_seeds = []\n",
    "        for s in seeds:\n",
    "            activated_seeds.append(s)\n",
    "        config.add_model_initial_configuration('Infected', activated_seeds)\n",
    "        # config.add_model_initial_configuration('Infected', [1,2,3,4])\n",
    "\n",
    "        simulated_model.set_initial_status(config)\n",
    "\n",
    "        iterations = simulated_model.iteration_bunch(iteration_num)\n",
    "        \n",
    "        current_simulation_activated_node_count = iterations[-1]['node_count'][1] + iterations[-1]['node_count'][2]\n",
    "\n",
    "        total_activated_node_count += current_simulation_activated_node_count\n",
    "\n",
    "\n",
    "    expected_activated_nodes = total_activated_node_count / simulation_num\n",
    "\n",
    "    # simulated_model.reset()\n",
    "\n",
    "    return expected_activated_nodes\n",
    "\n",
    "\n",
    "\n",
    "def select_first_seed_node_with_a_greedy_algorithm(model, config, node_sample_proportion=1.0, iteration_num=10, simulation_num=3):\n",
    "    candidate_nodes = list(model.graph.nodes())\n",
    "    # node_score = {}\n",
    "    max_expected_activated_nodes = 0\n",
    "    node_top_choice = None\n",
    "\n",
    "    if node_sample_proportion != 1.0:            \n",
    "        random.shuffle(candidate_nodes)\n",
    "        sample_count = int(len(candidate_nodes) * node_sample_proportion)\n",
    "        candidate_nodes = candidate_nodes[:sample_count]\n",
    "\n",
    "    for node_id in tqdm(candidate_nodes):\n",
    "        expected_activated_nodes = evaluated_expected_activated_nodes_for_first_seed(model.graph.graph, config, seeds=[node_id], iteration_num=iteration_num, simulation_num=simulation_num)\n",
    "        # node_score[node_id] = expected_activated_nodes\n",
    "        if max_expected_activated_nodes < expected_activated_nodes:\n",
    "            max_expected_activated_nodes = expected_activated_nodes\n",
    "            node_top_choice = node_id\n",
    "\n",
    "    return node_top_choice\n"
   ]
  },
  {
   "cell_type": "code",
   "execution_count": 6,
   "metadata": {},
   "outputs": [],
   "source": [
    "# function to execute one run of experiment\n",
    "def run_experiment(model, budget=10, decision_interval_period=5, propagation_probability_function=1, max_propagation_after_last_seed=1000, node_sample_proportion=1.0, iteration_num=10, simulation_num=3):\n",
    "\n",
    "    # Set propagation_probability_function\n",
    "    if propagation_probability_function == 1:\n",
    "        propagation_probability = propagation_probability_1\n",
    "    elif propagation_probability_function == 2:\n",
    "        propagation_probability = propagation_probability_2\n",
    "    elif propagation_probability_function == 3:\n",
    "        propagation_probability = propagation_probability_3\n",
    "\n",
    "    # Model Configuration\n",
    "    config = mc.Configuration()\n",
    "\n",
    "    # Setting the edge parameters\n",
    "    for index, e in enumerate(g.edges()):\n",
    "        threshold = propagation_probability()\n",
    "        config.add_edge_configuration(\"threshold\", e, threshold)\n",
    "\n",
    "    \n",
    "    print(\"decision # \", 1)\n",
    "    first_seed = select_first_seed_node_with_a_greedy_algorithm(model, config, node_sample_proportion=node_sample_proportion, iteration_num=iteration_num, simulation_num=simulation_num)\n",
    "    print(\"selected node: \", first_seed)\n",
    "    \n",
    "    # Set all nodes to inactive at the beginning\n",
    "    config.add_model_parameter('percentage_infected', 0.0)\n",
    "    # Set first seed(s) to initialize the model\n",
    "    config.add_model_initial_configuration('Infected', [first_seed])\n",
    "    # config.add_model_initial_configuration('Infected', [1,2,3,4])\n",
    "    model.set_initial_status(config)\n",
    "\n",
    "    # Run propagation steps after seeding the first node\n",
    "    iterations = model.iteration_bunch(decision_interval_period + 1) # +1 as the first iteration only initializes the model, with no propagation\n",
    "\n",
    "    # Propagation steps for subsequent seed nodes\n",
    "    for decision_index in range(budget):\n",
    "        if decision_index != 0:\n",
    "            print(\"decision # \", decision_index + 1)\n",
    "            # propagation for non-first seed\n",
    "            selected_seed_node_id = select_seed_node_with_a_greedy_algorithm(model, node_sample_proportion=node_sample_proportion, iteration_num=iteration_num, simulation_num=simulation_num)\n",
    "            print(\"selected node: \", selected_seed_node_id)\n",
    "            # activate selected node\n",
    "            model.status[selected_seed_node_id] = generate_seed_status()\n",
    "            current_iterations = model.iteration_bunch(decision_interval_period)\n",
    "\n",
    "            iterations += current_iterations\n",
    "            total_activated_node_count = iterations[-1]['node_count'][1] + iterations[-1]['node_count'][2]\n",
    "            print(\"total activated note count\", total_activated_node_count)\n",
    "\n",
    "    propagation_iterations = model.iteration_bunch(max_propagation_after_last_seed-decision_interval_period)\n",
    "\n",
    "    iterations += propagation_iterations\n",
    "\n",
    "    total_activated_node_count = iterations[-1]['node_count'][1] + iterations[-1]['node_count'][2]\n",
    "\n",
    "    return total_activated_node_count, iterations\n"
   ]
  },
  {
   "cell_type": "code",
   "execution_count": 7,
   "metadata": {},
   "outputs": [],
   "source": [
    "# Propagation Model selection\n",
    "model = ids.IndependentCascadesModel(g)"
   ]
  },
  {
   "cell_type": "code",
   "execution_count": 8,
   "metadata": {},
   "outputs": [],
   "source": [
    "# code in run_experiment function\n",
    "if False:\n",
    "    # Model Configuration\n",
    "    config = mc.Configuration()\n",
    "    # Set all nodes to inactive at the beginning\n",
    "    config.add_model_parameter('percentage_infected', 0.0)\n",
    "    # Set first seed(s) to initialize the model\n",
    "    config.add_model_initial_configuration('Infected', [1])\n",
    "    # config.add_model_initial_configuration('Infected', [1,2,3,4])\n",
    "\n",
    "    # Setting the edge parameters\n",
    "    for index, e in enumerate(g.edges()):\n",
    "        threshold = propagation_probability_1()\n",
    "    #     threshold = propagation_probability_2()\n",
    "    #     threshold = propagation_probability_3()\n",
    "        config.add_edge_configuration(\"threshold\", e, threshold)"
   ]
  },
  {
   "cell_type": "code",
   "execution_count": 9,
   "metadata": {},
   "outputs": [],
   "source": [
    "value = 11\n",
    "BUDGET = 5 # how many seeds are allowed to be activated\n",
    "DECISION_INTERVAL_PERIOD = value # how many propagation steps before the next decision to pick a seed node\n",
    "PROPAGATION_FUNCTION = 3# F1, F2 or F3 to model the node propagation\n",
    "PROP_AFTER_LAST_SEED = value # propagation steps to simulate after the budget is used up\n",
    "NODE_SAMPLE_RATE = 0.01 # proportion of available nodes to run Monte Carlo simulations while deciding which node to select\n",
    "# NODE_SAMPLE_RATE = 1.0 # proportion of available nodes to run Monte Carlo simulations while deciding which node to select\n",
    "ITER_NUM = value # propagation steps to simulate while evaluating the reward of seeding a node\n",
    "SIM_NUM = 3 # number of Monte Carlo simluations per node"
   ]
  },
  {
   "cell_type": "code",
   "execution_count": 10,
   "metadata": {},
   "outputs": [],
   "source": [
    "NUM_EXPERIMENTS_TO_RUN = 1"
   ]
  },
  {
   "cell_type": "code",
   "execution_count": 11,
   "metadata": {
    "scrolled": true
   },
   "outputs": [
    {
     "name": "stdout",
     "output_type": "stream",
     "text": [
      "Running experiment #  1\n",
      "decision #  1\n"
     ]
    },
    {
     "name": "stderr",
     "output_type": "stream",
     "text": [
      "100%|██████████████████████████████████████████████████████████████████████████████████| 40/40 [00:06<00:00,  6.67it/s]\n"
     ]
    },
    {
     "name": "stdout",
     "output_type": "stream",
     "text": [
      "selected node:  1153\n",
      "decision #  2\n"
     ]
    },
    {
     "name": "stderr",
     "output_type": "stream",
     "text": [
      "100%|██████████████████████████████████████████████████████████████████████████████████| 28/28 [00:03<00:00,  9.11it/s]\n"
     ]
    },
    {
     "name": "stdout",
     "output_type": "stream",
     "text": [
      "selected node:  3788\n",
      "total activated note count 1575\n",
      "decision #  3\n"
     ]
    },
    {
     "name": "stderr",
     "output_type": "stream",
     "text": [
      "100%|██████████████████████████████████████████████████████████████████████████████████| 24/24 [00:01<00:00, 13.78it/s]\n"
     ]
    },
    {
     "name": "stdout",
     "output_type": "stream",
     "text": [
      "selected node:  28\n",
      "total activated note count 1580\n",
      "decision #  4\n"
     ]
    },
    {
     "name": "stderr",
     "output_type": "stream",
     "text": [
      "100%|██████████████████████████████████████████████████████████████████████████████████| 24/24 [00:01<00:00, 13.84it/s]\n"
     ]
    },
    {
     "name": "stdout",
     "output_type": "stream",
     "text": [
      "selected node:  3750\n",
      "total activated note count 1581\n",
      "decision #  5\n"
     ]
    },
    {
     "name": "stderr",
     "output_type": "stream",
     "text": [
      "100%|██████████████████████████████████████████████████████████████████████████████████| 24/24 [00:01<00:00, 13.77it/s]\n"
     ]
    },
    {
     "name": "stdout",
     "output_type": "stream",
     "text": [
      "selected node:  186\n",
      "total activated note count 1634\n"
     ]
    }
   ],
   "source": [
    "total_activated_node_count_list = []\n",
    "\n",
    "for exp_index in range(NUM_EXPERIMENTS_TO_RUN):\n",
    "    print(\"Running experiment # \", exp_index+1)\n",
    "    total_activated_node_count, iterations = run_experiment(\n",
    "                                                    model, \n",
    "                                                    budget=BUDGET, \n",
    "                                                    decision_interval_period=DECISION_INTERVAL_PERIOD, \n",
    "                                                    propagation_probability_function=PROPAGATION_FUNCTION, \n",
    "                                                    max_propagation_after_last_seed=PROP_AFTER_LAST_SEED, \n",
    "                                                    node_sample_proportion=NODE_SAMPLE_RATE, \n",
    "                                                    iteration_num=ITER_NUM, \n",
    "                                                    simulation_num=SIM_NUM\n",
    "                                                )\n",
    "    total_activated_node_count_list.append(total_activated_node_count)\n",
    "\n",
    "mean_activated_node_count = np.mean(total_activated_node_count_list)"
   ]
  },
  {
   "cell_type": "code",
   "execution_count": 12,
   "metadata": {},
   "outputs": [
    {
     "name": "stdout",
     "output_type": "stream",
     "text": [
      "mean_activated_node_count:  1634.0\n"
     ]
    }
   ],
   "source": [
    "print(\"mean_activated_node_count: \", mean_activated_node_count)"
   ]
  },
  {
   "cell_type": "code",
   "execution_count": 13,
   "metadata": {},
   "outputs": [
    {
     "data": {
      "text/plain": [
       "[1634]"
      ]
     },
     "execution_count": 13,
     "metadata": {},
     "output_type": "execute_result"
    }
   ],
   "source": [
    "total_activated_node_count_list"
   ]
  },
  {
   "cell_type": "code",
   "execution_count": 14,
   "metadata": {},
   "outputs": [],
   "source": [
    "# model.status"
   ]
  },
  {
   "cell_type": "code",
   "execution_count": 15,
   "metadata": {},
   "outputs": [
    {
     "name": "stdout",
     "output_type": "stream",
     "text": [
      "delta:  {}\n",
      "node_count:  {0: 2405, 1: 1, 2: 1633}\n",
      "status_delta:  {0: 0, 1: 0, 2: 0}\n"
     ]
    }
   ],
   "source": [
    "delta, node_count, status_delta = model.status_delta(model.status)\n",
    "print('delta: ', delta)\n",
    "print('node_count: ', node_count)\n",
    "print('status_delta: ', status_delta)"
   ]
  },
  {
   "cell_type": "code",
   "execution_count": 16,
   "metadata": {},
   "outputs": [],
   "source": [
    "# iterations"
   ]
  },
  {
   "cell_type": "code",
   "execution_count": 17,
   "metadata": {},
   "outputs": [],
   "source": [
    "# trends = model.build_trends(iterations)"
   ]
  },
  {
   "cell_type": "markdown",
   "metadata": {},
   "source": [
    "# Visualization"
   ]
  },
  {
   "cell_type": "code",
   "execution_count": 18,
   "metadata": {},
   "outputs": [],
   "source": [
    "# from bokeh.io import output_notebook, show\n",
    "# from ndlib.viz.bokeh.DiffusionTrend import DiffusionTrend\n",
    "\n",
    "# viz = DiffusionTrend(model, trends)\n",
    "# p = viz.plot(width=400, height=400)\n",
    "# #show(p)"
   ]
  },
  {
   "cell_type": "code",
   "execution_count": 19,
   "metadata": {},
   "outputs": [],
   "source": [
    "# from ndlib.viz.bokeh.DiffusionPrevalence import DiffusionPrevalence\n",
    "\n",
    "# viz2 = DiffusionPrevalence(model, trends)\n",
    "# p2 = viz2.plot(width=400, height=400)\n",
    "# show(p2)"
   ]
  },
  {
   "cell_type": "code",
   "execution_count": 20,
   "metadata": {},
   "outputs": [],
   "source": [
    "# from ndlib.viz.bokeh.MultiPlot import MultiPlot\n",
    "# vm = MultiPlot()\n",
    "# vm.add_plot(p)\n",
    "# vm.add_plot(p2)\n",
    "# m = vm.plot()\n",
    "# show(m)"
   ]
  },
  {
   "cell_type": "code",
   "execution_count": 21,
   "metadata": {},
   "outputs": [],
   "source": [
    "# model.status"
   ]
  },
  {
   "cell_type": "code",
   "execution_count": null,
   "metadata": {},
   "outputs": [],
   "source": []
  }
 ],
 "metadata": {
  "kernelspec": {
   "display_name": "Python 3",
   "language": "python",
   "name": "python3"
  },
  "language_info": {
   "codemirror_mode": {
    "name": "ipython",
    "version": 3
   },
   "file_extension": ".py",
   "mimetype": "text/x-python",
   "name": "python",
   "nbconvert_exporter": "python",
   "pygments_lexer": "ipython3",
   "version": "3.7.1"
  }
 },
 "nbformat": 4,
 "nbformat_minor": 2
}
