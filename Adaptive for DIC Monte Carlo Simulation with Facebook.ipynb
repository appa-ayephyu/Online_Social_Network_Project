{
 "cells": [
  {
   "cell_type": "code",
   "execution_count": 1,
   "metadata": {},
   "outputs": [],
   "source": [
    "import random\n",
    "import numpy as np\n",
    "from tqdm import tqdm\n",
    "\n",
    "random.seed(123)\n",
    "np.random.seed(123)"
   ]
  },
  {
   "cell_type": "markdown",
   "metadata": {},
   "source": [
    "# Loading social network graph data"
   ]
  },
  {
   "cell_type": "code",
   "execution_count": 2,
   "metadata": {},
   "outputs": [],
   "source": [
    "import networkx as nx\n",
    "import ndlib.models.ModelConfig as mc\n",
    "import ndlib.models.epidemics as ids\n",
    "\n",
    "# Load social network graph\n",
    "g = nx.read_edgelist(\"data/facebook_combined.txt\", create_using = nx.Graph(), nodetype = int)"
   ]
  },
  {
   "cell_type": "code",
   "execution_count": 3,
   "metadata": {},
   "outputs": [
    {
     "name": "stdout",
     "output_type": "stream",
     "text": [
      "Name: \n",
      "Type: Graph\n",
      "Number of nodes: 4039\n",
      "Number of edges: 88234\n",
      "Average degree:  43.6910\n"
     ]
    }
   ],
   "source": [
    "#Quick snapshot of the Network\n",
    "print(nx.info(g))"
   ]
  },
  {
   "cell_type": "markdown",
   "metadata": {},
   "source": [
    "# Defining experiment functions"
   ]
  },
  {
   "cell_type": "code",
   "execution_count": 4,
   "metadata": {},
   "outputs": [],
   "source": [
    "# propagation probability functions\n",
    "def propagation_probability_1():\n",
    "    return 0.01\n",
    "\n",
    "def propagation_probability_2():\n",
    "    return np.random.exponential(scale=0.1)\n",
    "\n",
    "def propagation_probability_3():\n",
    "    sampled_prob = random.choice([0.1, 0.01, 0.001])\n",
    "    return sampled_prob"
   ]
  },
  {
   "cell_type": "code",
   "execution_count": 5,
   "metadata": {},
   "outputs": [],
   "source": [
    "# functions for greedy algorithm and Dynamic Independent Cascade\n",
    "\n",
    "def generate_seed_status(activation_probability=1):\n",
    "    if random.random() <= activation_probability:\n",
    "        return 1\n",
    "    else:\n",
    "        return 0\n",
    "\n",
    "def evaluated_expected_activated_nodes(model, seeds=[], iteration_num=10, simulation_num=3):\n",
    "    current_status = model.status.copy()\n",
    "    total_activated_node_count = 0\n",
    "\n",
    "    for simulation_index in range(simulation_num):\n",
    "        if simulation_index != 0:\n",
    "            model.reset()\n",
    "            model.status = current_status.copy()\n",
    "\n",
    "        # activating seeds\n",
    "        for s in seeds:\n",
    "            model.status[s] = generate_seed_status()\n",
    "\n",
    "        # starting propagation simulation\n",
    "        iterations = model.iteration_bunch(iteration_num)\n",
    "        \n",
    "        current_simulation_activated_node_count = iterations[-1]['node_count'][1] + iterations[-1]['node_count'][2]\n",
    "\n",
    "        total_activated_node_count += current_simulation_activated_node_count\n",
    "\n",
    "\n",
    "    expected_activated_nodes = total_activated_node_count / simulation_num\n",
    "\n",
    "    model.reset()\n",
    "    model.status = current_status.copy()\n",
    "\n",
    "    return expected_activated_nodes\n",
    "\n",
    "\n",
    "def select_seed_node_with_a_greedy_algorithm(model, node_sample_proportion=1.0, iteration_num=10, simulation_num=3):\n",
    "    current_status = model.status.copy()\n",
    "    candidate_nodes = []\n",
    "    # node_score = {}\n",
    "    max_expected_activated_nodes = 0\n",
    "    node_top_choice = None\n",
    "    for node_id, node_status in model.status.items():\n",
    "        if node_status == 0:\n",
    "            candidate_nodes.append(node_id)\n",
    "\n",
    "    if node_sample_proportion != 1.0:            \n",
    "        random.shuffle(candidate_nodes)\n",
    "        sample_count = int(len(candidate_nodes) * node_sample_proportion)\n",
    "        candidate_nodes = candidate_nodes[:sample_count]\n",
    "\n",
    "    for node_id in tqdm(candidate_nodes):\n",
    "        expected_activated_nodes = evaluated_expected_activated_nodes(model, seeds=[node_id], iteration_num=iteration_num, simulation_num=simulation_num)\n",
    "        # node_score[node_id] = expected_activated_nodes\n",
    "        if max_expected_activated_nodes < expected_activated_nodes:\n",
    "            max_expected_activated_nodes = expected_activated_nodes\n",
    "            node_top_choice = node_id\n",
    "\n",
    "    model.reset()\n",
    "    model.status = current_status.copy()\n",
    "\n",
    "    return node_top_choice\n",
    "\n",
    "\n",
    "\n",
    "\n",
    "def evaluated_expected_activated_nodes_for_first_seed(graph, config, seeds=[], iteration_num=10, simulation_num=3):\n",
    "    # current_status = model.status.copy()\n",
    "    total_activated_node_count = 0\n",
    "\n",
    "    for simulation_index in range(simulation_num):\n",
    "\n",
    "        # Propagation Model selection\n",
    "        simulated_model = ids.IndependentCascadesModel(graph)\n",
    "        # # Model Configuration\n",
    "        # config = mc.Configuration()\n",
    "        # Set all nodes to inactive at the beginning\n",
    "        config.add_model_parameter('percentage_infected', 0.0)\n",
    "        # Set first seed(s) to initialize the model\n",
    "        activated_seeds = []\n",
    "        for s in seeds:\n",
    "            activated_seeds.append(s)\n",
    "        config.add_model_initial_configuration('Infected', activated_seeds)\n",
    "        # config.add_model_initial_configuration('Infected', [1,2,3,4])\n",
    "\n",
    "        simulated_model.set_initial_status(config)\n",
    "\n",
    "        iterations = simulated_model.iteration_bunch(iteration_num)\n",
    "        \n",
    "        current_simulation_activated_node_count = iterations[-1]['node_count'][1] + iterations[-1]['node_count'][2]\n",
    "\n",
    "        total_activated_node_count += current_simulation_activated_node_count\n",
    "\n",
    "\n",
    "    expected_activated_nodes = total_activated_node_count / simulation_num\n",
    "\n",
    "    # simulated_model.reset()\n",
    "\n",
    "    return expected_activated_nodes\n",
    "\n",
    "\n",
    "\n",
    "def select_first_seed_node_with_a_greedy_algorithm(model, config, node_sample_proportion=1.0, iteration_num=10, simulation_num=3):\n",
    "    candidate_nodes = list(model.graph.nodes())\n",
    "    # node_score = {}\n",
    "    max_expected_activated_nodes = 0\n",
    "    node_top_choice = None\n",
    "\n",
    "    if node_sample_proportion != 1.0:            \n",
    "        random.shuffle(candidate_nodes)\n",
    "        sample_count = int(len(candidate_nodes) * node_sample_proportion)\n",
    "        candidate_nodes = candidate_nodes[:sample_count]\n",
    "\n",
    "    for node_id in tqdm(candidate_nodes):\n",
    "        expected_activated_nodes = evaluated_expected_activated_nodes_for_first_seed(model.graph.graph, config, seeds=[node_id], iteration_num=iteration_num, simulation_num=simulation_num)\n",
    "        # node_score[node_id] = expected_activated_nodes\n",
    "        if max_expected_activated_nodes < expected_activated_nodes:\n",
    "            max_expected_activated_nodes = expected_activated_nodes\n",
    "            node_top_choice = node_id\n",
    "\n",
    "    return node_top_choice\n"
   ]
  },
  {
   "cell_type": "code",
   "execution_count": 6,
   "metadata": {},
   "outputs": [],
   "source": [
    "# function to execute one run of experiment\n",
    "def run_experiment(model, budget=10, decision_interval_period=5, propagation_probability_function=1, max_propagation_after_last_seed=1000, node_sample_proportion=1.0, iteration_num=10, simulation_num=3):\n",
    "\n",
    "    # Set propagation_probability_function\n",
    "    if propagation_probability_function == 1:\n",
    "        propagation_probability = propagation_probability_1\n",
    "    elif propagation_probability_function == 2:\n",
    "        propagation_probability = propagation_probability_2\n",
    "    elif propagation_probability_function == 3:\n",
    "        propagation_probability = propagation_probability_3\n",
    "\n",
    "    # Model Configuration\n",
    "    config = mc.Configuration()\n",
    "\n",
    "    # Setting the edge parameters\n",
    "    for index, e in enumerate(g.edges()):\n",
    "        threshold = propagation_probability()\n",
    "        config.add_edge_configuration(\"threshold\", e, threshold)\n",
    "\n",
    "    \n",
    "    print(\"decision # \", 1)\n",
    "    first_seed = select_first_seed_node_with_a_greedy_algorithm(model, config, node_sample_proportion=node_sample_proportion, iteration_num=iteration_num, simulation_num=simulation_num)\n",
    "    print(\"selected node: \", first_seed)\n",
    "    \n",
    "    # Set all nodes to inactive at the beginning\n",
    "    config.add_model_parameter('percentage_infected', 0.0)\n",
    "    # Set first seed(s) to initialize the model\n",
    "    config.add_model_initial_configuration('Infected', [first_seed])\n",
    "    # config.add_model_initial_configuration('Infected', [1,2,3,4])\n",
    "    model.set_initial_status(config)\n",
    "\n",
    "    # Run propagation steps after seeding the first node\n",
    "    iterations = model.iteration_bunch(decision_interval_period + 1) # +1 as the first iteration only initializes the model, with no propagation\n",
    "\n",
    "    # Propagation steps for subsequent seed nodes\n",
    "    for decision_index in range(budget):\n",
    "        if decision_index != 0:\n",
    "            print(\"decision # \", decision_index + 1)\n",
    "            # propagation for non-first seed\n",
    "            selected_seed_node_id = select_seed_node_with_a_greedy_algorithm(model, node_sample_proportion=node_sample_proportion, iteration_num=iteration_num, simulation_num=simulation_num)\n",
    "            print(\"selected node: \", selected_seed_node_id)\n",
    "            # activate selected node\n",
    "            model.status[selected_seed_node_id] = generate_seed_status()\n",
    "            current_iterations = model.iteration_bunch(decision_interval_period)\n",
    "\n",
    "            iterations += current_iterations\n",
    "            total_activated_node_count = iterations[-1]['node_count'][1] + iterations[-1]['node_count'][2]\n",
    "            print(\"total activated note count\", total_activated_node_count)\n",
    "\n",
    "    propagation_iterations = model.iteration_bunch(max_propagation_after_last_seed-decision_interval_period)\n",
    "\n",
    "    iterations += propagation_iterations\n",
    "\n",
    "    total_activated_node_count = iterations[-1]['node_count'][1] + iterations[-1]['node_count'][2]\n",
    "\n",
    "    return total_activated_node_count, iterations\n"
   ]
  },
  {
   "cell_type": "code",
   "execution_count": 7,
   "metadata": {},
   "outputs": [],
   "source": [
    "# Propagation Model selection\n",
    "model = ids.IndependentCascadesModel(g)"
   ]
  },
  {
   "cell_type": "code",
   "execution_count": 8,
   "metadata": {},
   "outputs": [],
   "source": [
    "# code in run_experiment function\n",
    "if False:\n",
    "    # Model Configuration\n",
    "    config = mc.Configuration()\n",
    "    # Set all nodes to inactive at the beginning\n",
    "    config.add_model_parameter('percentage_infected', 0.0)\n",
    "    # Set first seed(s) to initialize the model\n",
    "    config.add_model_initial_configuration('Infected', [1])\n",
    "    # config.add_model_initial_configuration('Infected', [1,2,3,4])\n",
    "\n",
    "    # Setting the edge parameters\n",
    "    for index, e in enumerate(g.edges()):\n",
    "        threshold = propagation_probability_1()\n",
    "    #     threshold = propagation_probability_2()\n",
    "    #     threshold = propagation_probability_3()\n",
    "        config.add_edge_configuration(\"threshold\", e, threshold)"
   ]
  },
  {
   "cell_type": "code",
   "execution_count": 9,
   "metadata": {},
   "outputs": [],
   "source": [
    "BUDGET = 30 # how many seeds are allowed to be activated\n",
    "DECISION_INTERVAL_PERIOD = 700 # how many propagation steps before the next decision to pick a seed node\n",
    "PROPAGATION_FUNCTION = 3# F1, F2 or F3 to model the node propagation\n",
    "PROP_AFTER_LAST_SEED = 200 # propagation steps to simulate after the budget is used up\n",
    "NODE_SAMPLE_RATE = 0.01 # proportion of available nodes to run Monte Carlo simulations while deciding which node to select\n",
    "# NODE_SAMPLE_RATE = 1.0 # proportion of available nodes to run Monte Carlo simulations while deciding which node to select\n",
    "ITER_NUM = 700 # propagation steps to simulate while evaluating the reward of seeding a node\n",
    "SIM_NUM = 3 # number of Monte Carlo simluations per node"
   ]
  },
  {
   "cell_type": "code",
   "execution_count": 10,
   "metadata": {},
   "outputs": [],
   "source": [
    "NUM_EXPERIMENTS_TO_RUN = 1"
   ]
  },
  {
   "cell_type": "code",
   "execution_count": 11,
   "metadata": {},
   "outputs": [
    {
     "name": "stdout",
     "output_type": "stream",
     "text": [
      "Running experiment #  1\n",
      "decision #  1\n"
     ]
    },
    {
     "name": "stderr",
     "output_type": "stream",
     "text": [
      "100%|██████████████████████████████████████████████████████████████████████████████████| 40/40 [02:38<00:00,  3.83s/it]\n"
     ]
    },
    {
     "name": "stdout",
     "output_type": "stream",
     "text": [
      "selected node:  2395\n",
      "decision #  2\n"
     ]
    },
    {
     "name": "stderr",
     "output_type": "stream",
     "text": [
      "100%|██████████████████████████████████████████████████████████████████████████████████| 24/24 [01:38<00:00,  4.51s/it]\n"
     ]
    },
    {
     "name": "stdout",
     "output_type": "stream",
     "text": [
      "selected node:  161\n",
      "total activated note count 1597\n",
      "decision #  3\n"
     ]
    },
    {
     "name": "stderr",
     "output_type": "stream",
     "text": [
      "100%|██████████████████████████████████████████████████████████████████████████████████| 24/24 [01:36<00:00,  3.99s/it]\n"
     ]
    },
    {
     "name": "stdout",
     "output_type": "stream",
     "text": [
      "selected node:  3615\n",
      "total activated note count 1598\n",
      "decision #  4\n"
     ]
    },
    {
     "name": "stderr",
     "output_type": "stream",
     "text": [
      "100%|██████████████████████████████████████████████████████████████████████████████████| 24/24 [01:37<00:00,  3.98s/it]\n"
     ]
    },
    {
     "name": "stdout",
     "output_type": "stream",
     "text": [
      "selected node:  142\n",
      "total activated note count 1601\n",
      "decision #  5\n"
     ]
    },
    {
     "name": "stderr",
     "output_type": "stream",
     "text": [
      "100%|██████████████████████████████████████████████████████████████████████████████████| 24/24 [01:38<00:00,  3.99s/it]\n"
     ]
    },
    {
     "name": "stdout",
     "output_type": "stream",
     "text": [
      "selected node:  3852\n",
      "total activated note count 1696\n",
      "decision #  6\n"
     ]
    },
    {
     "name": "stderr",
     "output_type": "stream",
     "text": [
      "100%|██████████████████████████████████████████████████████████████████████████████████| 23/23 [01:32<00:00,  4.01s/it]\n"
     ]
    },
    {
     "name": "stdout",
     "output_type": "stream",
     "text": [
      "selected node:  118\n",
      "total activated note count 1768\n",
      "decision #  7\n"
     ]
    },
    {
     "name": "stderr",
     "output_type": "stream",
     "text": [
      "100%|██████████████████████████████████████████████████████████████████████████████████| 22/22 [01:28<00:00,  4.04s/it]\n"
     ]
    },
    {
     "name": "stdout",
     "output_type": "stream",
     "text": [
      "selected node:  3614\n",
      "total activated note count 1769\n",
      "decision #  8\n"
     ]
    },
    {
     "name": "stderr",
     "output_type": "stream",
     "text": [
      "100%|██████████████████████████████████████████████████████████████████████████████████| 22/22 [01:31<00:00,  4.43s/it]\n"
     ]
    },
    {
     "name": "stdout",
     "output_type": "stream",
     "text": [
      "selected node:  817\n",
      "total activated note count 1771\n",
      "decision #  9\n"
     ]
    },
    {
     "name": "stderr",
     "output_type": "stream",
     "text": [
      "100%|██████████████████████████████████████████████████████████████████████████████████| 22/22 [01:30<00:00,  4.04s/it]\n"
     ]
    },
    {
     "name": "stdout",
     "output_type": "stream",
     "text": [
      "selected node:  772\n",
      "total activated note count 1796\n",
      "decision #  10\n"
     ]
    },
    {
     "name": "stderr",
     "output_type": "stream",
     "text": [
      "100%|██████████████████████████████████████████████████████████████████████████████████| 22/22 [01:30<00:00,  4.04s/it]\n"
     ]
    },
    {
     "name": "stdout",
     "output_type": "stream",
     "text": [
      "selected node:  715\n",
      "total activated note count 1806\n",
      "decision #  11\n"
     ]
    },
    {
     "name": "stderr",
     "output_type": "stream",
     "text": [
      "100%|██████████████████████████████████████████████████████████████████████████████████| 22/22 [01:29<00:00,  4.06s/it]\n"
     ]
    },
    {
     "name": "stdout",
     "output_type": "stream",
     "text": [
      "selected node:  3555\n",
      "total activated note count 1811\n",
      "decision #  12\n"
     ]
    },
    {
     "name": "stderr",
     "output_type": "stream",
     "text": [
      "100%|██████████████████████████████████████████████████████████████████████████████████| 22/22 [01:36<00:00,  4.38s/it]\n"
     ]
    },
    {
     "name": "stdout",
     "output_type": "stream",
     "text": [
      "selected node:  1648\n",
      "total activated note count 1813\n",
      "decision #  13\n"
     ]
    },
    {
     "name": "stderr",
     "output_type": "stream",
     "text": [
      "100%|██████████████████████████████████████████████████████████████████████████████████| 22/22 [01:32<00:00,  4.05s/it]\n"
     ]
    },
    {
     "name": "stdout",
     "output_type": "stream",
     "text": [
      "selected node:  876\n",
      "total activated note count 1823\n",
      "decision #  14\n"
     ]
    },
    {
     "name": "stderr",
     "output_type": "stream",
     "text": [
      "100%|██████████████████████████████████████████████████████████████████████████████████| 22/22 [01:30<00:00,  4.13s/it]\n"
     ]
    },
    {
     "name": "stdout",
     "output_type": "stream",
     "text": [
      "selected node:  823\n",
      "total activated note count 1835\n",
      "decision #  15\n"
     ]
    },
    {
     "name": "stderr",
     "output_type": "stream",
     "text": [
      "100%|██████████████████████████████████████████████████████████████████████████████████| 22/22 [01:33<00:00,  4.46s/it]\n"
     ]
    },
    {
     "name": "stdout",
     "output_type": "stream",
     "text": [
      "selected node:  2990\n",
      "total activated note count 1836\n",
      "decision #  16\n"
     ]
    },
    {
     "name": "stderr",
     "output_type": "stream",
     "text": [
      "100%|██████████████████████████████████████████████████████████████████████████████████| 22/22 [01:34<00:00,  4.06s/it]\n"
     ]
    },
    {
     "name": "stdout",
     "output_type": "stream",
     "text": [
      "selected node:  2349\n",
      "total activated note count 1838\n",
      "decision #  17\n"
     ]
    },
    {
     "name": "stderr",
     "output_type": "stream",
     "text": [
      "100%|██████████████████████████████████████████████████████████████████████████████████| 22/22 [01:29<00:00,  4.04s/it]\n"
     ]
    },
    {
     "name": "stdout",
     "output_type": "stream",
     "text": [
      "selected node:  3977\n",
      "total activated note count 1839\n",
      "decision #  18\n"
     ]
    },
    {
     "name": "stderr",
     "output_type": "stream",
     "text": [
      "100%|██████████████████████████████████████████████████████████████████████████████████| 22/22 [01:29<00:00,  4.04s/it]\n"
     ]
    },
    {
     "name": "stdout",
     "output_type": "stream",
     "text": [
      "selected node:  67\n",
      "total activated note count 1842\n",
      "decision #  19\n"
     ]
    },
    {
     "name": "stderr",
     "output_type": "stream",
     "text": [
      "100%|██████████████████████████████████████████████████████████████████████████████████| 21/21 [01:24<00:00,  4.02s/it]\n"
     ]
    },
    {
     "name": "stdout",
     "output_type": "stream",
     "text": [
      "selected node:  647\n",
      "total activated note count 1847\n",
      "decision #  20\n"
     ]
    },
    {
     "name": "stderr",
     "output_type": "stream",
     "text": [
      "100%|██████████████████████████████████████████████████████████████████████████████████| 21/21 [01:25<00:00,  4.04s/it]\n"
     ]
    },
    {
     "name": "stdout",
     "output_type": "stream",
     "text": [
      "selected node:  2466\n",
      "total activated note count 1848\n",
      "decision #  21\n"
     ]
    },
    {
     "name": "stderr",
     "output_type": "stream",
     "text": [
      "100%|██████████████████████████████████████████████████████████████████████████████████| 21/21 [01:24<00:00,  4.02s/it]\n"
     ]
    },
    {
     "name": "stdout",
     "output_type": "stream",
     "text": [
      "selected node:  3558\n",
      "total activated note count 1853\n",
      "decision #  22\n"
     ]
    },
    {
     "name": "stderr",
     "output_type": "stream",
     "text": [
      "100%|██████████████████████████████████████████████████████████████████████████████████| 21/21 [01:24<00:00,  4.06s/it]\n"
     ]
    },
    {
     "name": "stdout",
     "output_type": "stream",
     "text": [
      "selected node:  3836\n",
      "total activated note count 1855\n",
      "decision #  23\n"
     ]
    },
    {
     "name": "stderr",
     "output_type": "stream",
     "text": [
      "100%|██████████████████████████████████████████████████████████████████████████████████| 21/21 [01:26<00:00,  4.04s/it]\n"
     ]
    },
    {
     "name": "stdout",
     "output_type": "stream",
     "text": [
      "selected node:  3146\n",
      "total activated note count 1857\n",
      "decision #  24\n"
     ]
    },
    {
     "name": "stderr",
     "output_type": "stream",
     "text": [
      "100%|██████████████████████████████████████████████████████████████████████████████████| 21/21 [01:28<00:00,  4.12s/it]\n"
     ]
    },
    {
     "name": "stdout",
     "output_type": "stream",
     "text": [
      "selected node:  625\n",
      "total activated note count 1861\n",
      "decision #  25\n"
     ]
    },
    {
     "name": "stderr",
     "output_type": "stream",
     "text": [
      "100%|██████████████████████████████████████████████████████████████████████████████████| 21/21 [01:25<00:00,  4.18s/it]\n"
     ]
    },
    {
     "name": "stdout",
     "output_type": "stream",
     "text": [
      "selected node:  3674\n",
      "total activated note count 1864\n",
      "decision #  26\n"
     ]
    },
    {
     "name": "stderr",
     "output_type": "stream",
     "text": [
      "100%|██████████████████████████████████████████████████████████████████████████████████| 21/21 [01:29<00:00,  4.76s/it]\n"
     ]
    },
    {
     "name": "stdout",
     "output_type": "stream",
     "text": [
      "selected node:  3858\n",
      "total activated note count 1868\n",
      "decision #  27\n"
     ]
    },
    {
     "name": "stderr",
     "output_type": "stream",
     "text": [
      "100%|██████████████████████████████████████████████████████████████████████████████████| 21/21 [01:29<00:00,  4.47s/it]\n"
     ]
    },
    {
     "name": "stdout",
     "output_type": "stream",
     "text": [
      "selected node:  3016\n",
      "total activated note count 1869\n",
      "decision #  28\n"
     ]
    },
    {
     "name": "stderr",
     "output_type": "stream",
     "text": [
      "100%|██████████████████████████████████████████████████████████████████████████████████| 21/21 [01:26<00:00,  4.33s/it]\n"
     ]
    },
    {
     "name": "stdout",
     "output_type": "stream",
     "text": [
      "selected node:  3723\n",
      "total activated note count 1870\n",
      "decision #  29\n"
     ]
    },
    {
     "name": "stderr",
     "output_type": "stream",
     "text": [
      "100%|██████████████████████████████████████████████████████████████████████████████████| 21/21 [01:27<00:00,  4.08s/it]\n"
     ]
    },
    {
     "name": "stdout",
     "output_type": "stream",
     "text": [
      "selected node:  1314\n",
      "total activated note count 1874\n",
      "decision #  30\n"
     ]
    },
    {
     "name": "stderr",
     "output_type": "stream",
     "text": [
      "100%|██████████████████████████████████████████████████████████████████████████████████| 21/21 [01:26<00:00,  4.12s/it]\n"
     ]
    },
    {
     "name": "stdout",
     "output_type": "stream",
     "text": [
      "selected node:  3002\n",
      "total activated note count 1875\n"
     ]
    }
   ],
   "source": [
    "total_activated_node_count_list = []\n",
    "\n",
    "for exp_index in range(NUM_EXPERIMENTS_TO_RUN):\n",
    "    print(\"Running experiment # \", exp_index+1)\n",
    "    total_activated_node_count, iterations = run_experiment(\n",
    "                                                    model, \n",
    "                                                    budget=BUDGET, \n",
    "                                                    decision_interval_period=DECISION_INTERVAL_PERIOD, \n",
    "                                                    propagation_probability_function=PROPAGATION_FUNCTION, \n",
    "                                                    max_propagation_after_last_seed=PROP_AFTER_LAST_SEED, \n",
    "                                                    node_sample_proportion=NODE_SAMPLE_RATE, \n",
    "                                                    iteration_num=ITER_NUM, \n",
    "                                                    simulation_num=SIM_NUM\n",
    "                                                )\n",
    "    total_activated_node_count_list.append(total_activated_node_count)\n",
    "\n",
    "mean_activated_node_count = np.mean(total_activated_node_count_list)"
   ]
  },
  {
   "cell_type": "code",
   "execution_count": 12,
   "metadata": {},
   "outputs": [
    {
     "name": "stdout",
     "output_type": "stream",
     "text": [
      "mean_activated_node_count:  1875.0\n"
     ]
    }
   ],
   "source": [
    "print(\"mean_activated_node_count: \", mean_activated_node_count)"
   ]
  },
  {
   "cell_type": "code",
   "execution_count": 13,
   "metadata": {},
   "outputs": [
    {
     "data": {
      "text/plain": [
       "[1875]"
      ]
     },
     "execution_count": 13,
     "metadata": {},
     "output_type": "execute_result"
    }
   ],
   "source": [
    "total_activated_node_count_list"
   ]
  },
  {
   "cell_type": "code",
   "execution_count": 14,
   "metadata": {},
   "outputs": [],
   "source": [
    "# model.status"
   ]
  },
  {
   "cell_type": "code",
   "execution_count": 15,
   "metadata": {},
   "outputs": [
    {
     "name": "stdout",
     "output_type": "stream",
     "text": [
      "delta:  {}\n",
      "node_count:  {0: 2164, 1: 0, 2: 1875}\n",
      "status_delta:  {0: 0, 1: 0, 2: 0}\n"
     ]
    }
   ],
   "source": [
    "delta, node_count, status_delta = model.status_delta(model.status)\n",
    "print('delta: ', delta)\n",
    "print('node_count: ', node_count)\n",
    "print('status_delta: ', status_delta)"
   ]
  },
  {
   "cell_type": "code",
   "execution_count": 16,
   "metadata": {},
   "outputs": [],
   "source": [
    "# iterations"
   ]
  },
  {
   "cell_type": "code",
   "execution_count": 17,
   "metadata": {},
   "outputs": [],
   "source": [
    "# trends = model.build_trends(iterations)"
   ]
  },
  {
   "cell_type": "markdown",
   "metadata": {},
   "source": [
    "# Visualization"
   ]
  },
  {
   "cell_type": "code",
   "execution_count": 18,
   "metadata": {},
   "outputs": [],
   "source": [
    "# from bokeh.io import output_notebook, show\n",
    "# from ndlib.viz.bokeh.DiffusionTrend import DiffusionTrend\n",
    "\n",
    "# viz = DiffusionTrend(model, trends)\n",
    "# p = viz.plot(width=400, height=400)\n",
    "# #show(p)"
   ]
  },
  {
   "cell_type": "code",
   "execution_count": 19,
   "metadata": {},
   "outputs": [],
   "source": [
    "# from ndlib.viz.bokeh.DiffusionPrevalence import DiffusionPrevalence\n",
    "\n",
    "# viz2 = DiffusionPrevalence(model, trends)\n",
    "# p2 = viz2.plot(width=400, height=400)\n",
    "# show(p2)"
   ]
  },
  {
   "cell_type": "code",
   "execution_count": 20,
   "metadata": {},
   "outputs": [],
   "source": [
    "# from ndlib.viz.bokeh.MultiPlot import MultiPlot\n",
    "# vm = MultiPlot()\n",
    "# vm.add_plot(p)\n",
    "# vm.add_plot(p2)\n",
    "# m = vm.plot()\n",
    "# show(m)"
   ]
  },
  {
   "cell_type": "code",
   "execution_count": 21,
   "metadata": {},
   "outputs": [],
   "source": [
    "# model.status"
   ]
  },
  {
   "cell_type": "code",
   "execution_count": null,
   "metadata": {},
   "outputs": [],
   "source": []
  }
 ],
 "metadata": {
  "kernelspec": {
   "display_name": "Python 3",
   "language": "python",
   "name": "python3"
  },
  "language_info": {
   "codemirror_mode": {
    "name": "ipython",
    "version": 3
   },
   "file_extension": ".py",
   "mimetype": "text/x-python",
   "name": "python",
   "nbconvert_exporter": "python",
   "pygments_lexer": "ipython3",
   "version": "3.7.1"
  }
 },
 "nbformat": 4,
 "nbformat_minor": 2
}
