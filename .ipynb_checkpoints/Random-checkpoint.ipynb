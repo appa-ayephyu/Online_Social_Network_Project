{
 "cells": [
  {
   "cell_type": "code",
   "execution_count": 1,
   "metadata": {},
   "outputs": [],
   "source": [
    "import random\n",
    "import numpy as np\n",
    "from tqdm import tqdm\n",
    "\n",
    "import networkx as nx\n",
    "import ndlib.models.ModelConfig as mc\n",
    "import ndlib.models.epidemics as ids\n",
    "from xml.dom import minidom"
   ]
  },
  {
   "cell_type": "code",
   "execution_count": 2,
   "metadata": {},
   "outputs": [],
   "source": [
    "def read_xml_file(path):\n",
    "    G = nx.DiGraph()\n",
    "    mydoc= minidom.parse(path)\n",
    "    node_list = mydoc.getElementsByTagName('node')\n",
    "    edge_list = mydoc.getElementsByTagName('edge')\n",
    "    for node in node_list:\n",
    "        G.add_node(node.attributes['ID'].value, activated=False)\n",
    "\n",
    "    for edge in edge_list:\n",
    "        G.add_edge(edge.attributes['nodeID_1'].value, edge.attributes['nodeID_2'].value)\n",
    "\n",
    "    return G"
   ]
  },
  {
   "cell_type": "code",
   "execution_count": 3,
   "metadata": {},
   "outputs": [],
   "source": [
    "# Load social network graph\n",
    "g = read_xml_file(\"data/N_2500_beta_1.2_01.xml\")"
   ]
  },
  {
   "cell_type": "code",
   "execution_count": 4,
   "metadata": {},
   "outputs": [
    {
     "name": "stdout",
     "output_type": "stream",
     "text": [
      "Name: \n",
      "Type: DiGraph\n",
      "Number of nodes: 2500\n",
      "Number of edges: 25388\n",
      "Average in degree:  10.1552\n",
      "Average out degree:  10.1552\n"
     ]
    }
   ],
   "source": [
    "#Quick snapshot of the Network\n",
    "print(nx.info(g))"
   ]
  },
  {
   "cell_type": "code",
   "execution_count": 5,
   "metadata": {},
   "outputs": [],
   "source": [
    "budget = 5\n",
    "nodecount = 2500\n",
    "total_activated_node_count=[]"
   ]
  },
  {
   "cell_type": "code",
   "execution_count": 6,
   "metadata": {},
   "outputs": [
    {
     "name": "stdout",
     "output_type": "stream",
     "text": [
      "total_activated_nodes for 5 is 5.68\n",
      "total_activated_nodes for 10 is 8.61\n",
      "total_activated_nodes for 15 is 11.766666666666667\n",
      "total_activated_nodes for 20 is 14.6775\n",
      "total_activated_nodes for 25 is 17.666\n",
      "total_activated_nodes for 30 is 20.60333333333333\n"
     ]
    }
   ],
   "source": [
    "for budget in range(5,31,5):\n",
    "    for i in range(100):\n",
    "        model = ids.IndependentCascadesModel(g)\n",
    "\n",
    "        # Model Configuration\n",
    "        config = mc.Configuration()\n",
    "        fraction = budget/ nodecount\n",
    "        config.add_model_parameter('fraction_infected', fraction)\n",
    "\n",
    "        # Setting the edge parameters\n",
    "        threshold = np.random.exponential(scale=0.1)\n",
    "        for e in g.edges():\n",
    "            config.add_edge_configuration(\"threshold\", e, threshold)\n",
    "\n",
    "        model.set_initial_status(config)\n",
    "\n",
    "        # Simulation execution\n",
    "        iterations = model.iteration_bunch(200)\n",
    "        total_activated_node_count.append(iterations[-1]['node_count'][1] + iterations[-1]['node_count'][2])\n",
    "    print(\"total_activated_nodes for \", end=\"\")\n",
    "    print(budget, end=\"\")\n",
    "    print(\" is \", end=\"\")\n",
    "    print(sum(total_activated_node_count) / len(total_activated_node_count))"
   ]
  },
  {
   "cell_type": "code",
   "execution_count": null,
   "metadata": {},
   "outputs": [],
   "source": []
  },
  {
   "cell_type": "code",
   "execution_count": null,
   "metadata": {},
   "outputs": [],
   "source": []
  }
 ],
 "metadata": {
  "kernelspec": {
   "display_name": "Python 3",
   "language": "python",
   "name": "python3"
  },
  "language_info": {
   "codemirror_mode": {
    "name": "ipython",
    "version": 3
   },
   "file_extension": ".py",
   "mimetype": "text/x-python",
   "name": "python",
   "nbconvert_exporter": "python",
   "pygments_lexer": "ipython3",
   "version": "3.7.1"
  }
 },
 "nbformat": 4,
 "nbformat_minor": 2
}
